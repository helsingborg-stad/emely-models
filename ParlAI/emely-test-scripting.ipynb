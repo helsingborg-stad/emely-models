{
 "cells": [
  {
   "cell_type": "code",
   "execution_count": 7,
   "source": [
    "from parlai.core.agents import create_agent\n",
    "from parlai.agents.emely.emely import EmelyAgent\n",
    "from parlai.core.opt import Opt\n",
    "from pathlib import Path\n",
    "import torch\n",
    "from parlai.scripts.torchscript import export_emely\n",
    "from parlai.core.agents import create_agent\n",
    "\n",
    "# Initialize model settings\n",
    "\n",
    "model_path = Path.cwd() / 'data/models/blender/blender_90M/'\n",
    "assert model_path.is_dir()\n",
    "\n",
    "opt_path = model_path / 'model.opt'\n",
    "opt = Opt.load(opt_path)\n",
    "\n",
    "# Change opts\n",
    "opt['skip_generation'] = False\n",
    "opt['init_model'] = (model_path / 'model').as_posix()\n",
    "opt['no_cuda'] = True  # Cloud run doesn't offer gpu support\n",
    "\n",
    "# Inference options\n",
    "opt['inference'] = 'greedy' # 'beam' 'greedy'\n",
    "opt['beam_size'] = 1\n",
    "\n",
    "opt[\"scripted_model_file\"] = \"../../saved_models/emely_scripted_test.pt\"\n",
    "opt[\"script-module\"] = \"parlai.torchscript.modules:TorchScriptGreedySearch\"\n",
    "opt[\"model_file\"] = opt[\"init_model\"]\n",
    "\n",
    "opt[\"temp_separator\"] = \"__space__\"\n",
    "\n",
    "opt[\"bpe_add_prefix_space\"] = False\n",
    "\n",
    "opt[\"input\"] = \"Hi! What do you like to do?\""
   ],
   "outputs": [],
   "metadata": {}
  },
  {
   "cell_type": "code",
   "execution_count": 8,
   "source": [
    "# Test exporting to torchscript\n",
    "original_module, scripted_module = export_emely(opt)"
   ],
   "outputs": [
    {
     "output_type": "stream",
     "name": "stdout",
     "text": [
      "16:37:34 | loading dictionary from /home/ckjellson/code/emely-models/ParlAI/data/models/blender/blender_90M/model.dict\n",
      "16:37:34 | num words = 54944\n",
      "16:37:35 | Total parameters: 87,508,992 (87,508,992 trainable)\n",
      "16:37:35 | Loading existing model params from /home/ckjellson/code/emely-models/ParlAI/data/models/blender/blender_90M/model\n",
      "\n",
      "Generating given the original unscripted module:\n",
      " TEXT: Hi! What do you like to do?\n",
      "LABEL: i like to go to the movies and play video games .\n",
      "\n",
      "Generating given the scripted module:\n",
      " TEXT: Hi! What do you like to do?\n",
      "LABEL: i like to go to the movies and play video games .\n"
     ]
    }
   ],
   "metadata": {}
  },
  {
   "cell_type": "code",
   "execution_count": 3,
   "source": [
    "# Create model to test tokenization etc\n",
    "emely_agent = EmelyAgent(opt)"
   ],
   "outputs": [
    {
     "output_type": "stream",
     "name": "stdout",
     "text": [
      "16:29:01 | loading dictionary from /home/ckjellson/code/emely-models/ParlAI/data/models/blender/blender_90M/model.dict\n",
      "16:29:02 | num words = 54944\n",
      "16:29:03 | Total parameters: 87,508,992 (87,508,992 trainable)\n",
      "16:29:03 | Loading existing model params from /home/ckjellson/code/emely-models/ParlAI/data/models/blender/blender_90M/model\n"
     ]
    }
   ],
   "metadata": {}
  },
  {
   "cell_type": "code",
   "execution_count": 4,
   "source": [
    "text = \"Hi Emely, how are you?\\nI'm good thanks! What do you do for work?\\nI write code and I drink coffe.\"\n",
    "reply = emely_agent.observe_and_act(text)\n",
    "print(reply)\n",
    "reply = scripted_module(text)\n",
    "print(reply)"
   ],
   "outputs": [
    {
     "output_type": "stream",
     "name": "stdout",
     "text": [
      "that ' s cool ! what kind of code do you write ? i ' ve never written code .\n",
      "that ' s cool ! what kind of code do you write ? i ' ve never written code .\n"
     ]
    }
   ],
   "metadata": {}
  },
  {
   "cell_type": "code",
   "execution_count": 9,
   "source": [
    "text = \"Hi Emely, how are you?\"\n",
    "print(emely_agent.dict.txt2vec(text))\n",
    "print(scripted_module.dict.txt2vec(text))"
   ],
   "outputs": [
    {
     "output_type": "stream",
     "name": "stdout",
     "text": [
      "[792, 813, 3459, 6, 102, 46, 15, 20]\n",
      "[792, 813, 3459, 6, 102, 46, 15, 20]\n"
     ]
    }
   ],
   "metadata": {}
  },
  {
   "cell_type": "code",
   "execution_count": 12,
   "source": [
    "# Test performance\n",
    "from time import time\n",
    "nruns = 1\n",
    "t1 = time()\n",
    "for i in range(nruns):\n",
    "    reply = emely_agent.observe_and_act(\"Hi!\\n My name is something and my friend's name is something likewise.\")\n",
    "    print(reply)\n",
    "t2 = time()\n",
    "orig_time = t2-t1\n",
    "print(\"Time using original emely_agent: \", orig_time)\n",
    "for i in range(nruns):\n",
    "    reply = original_module(\"Hi!\\n My name is something and my friend's name is something likewise.\")\n",
    "    print(reply)\n",
    "t3 = time()\n",
    "orig2_time = t3-t2\n",
    "print(\"Time using original module: \", orig2_time)\n",
    "for i in range(nruns):\n",
    "    reply = scripted_module(\"Hi!\\n My name is something and my friend's name is something likewise.\")\n",
    "    print(reply)\n",
    "t4 = time()\n",
    "script_time = t4-t3\n",
    "print(\"Time using scripted model: \", script_time)"
   ],
   "outputs": [
    {
     "output_type": "stream",
     "name": "stdout",
     "text": [
      "that ' s cool . what is your name ? i ' ve never met anyone with the same name .\n",
      "Time using original emely_agent:  0.8299565315246582\n",
      "that ' s cool . what is your name ? i ' ve never met anyone with the same name as me .\n",
      "Time using original module:  0.7110500335693359\n",
      "that ' s cool . what is your name ? i ' ve never met anyone with the same name as me .\n",
      "Time using scripted model:  0.7660255432128906\n"
     ]
    }
   ],
   "metadata": {}
  },
  {
   "cell_type": "code",
   "execution_count": 6,
   "source": [
    "from parlai.core.message import Message\n",
    "dummy_message = Message()\n",
    "dummy_message['id'] = 'localHuman'\n",
    "dummy_message['text'] = 'Hi'\n",
    "dummy_message['episode_done'] = False\n",
    "dummy_message['label_candidates'] = None\n",
    "#scripted_module.observe()"
   ],
   "outputs": [],
   "metadata": {}
  },
  {
   "cell_type": "code",
   "execution_count": 15,
   "source": [
    "# Test ONNX\n",
    "import torch.onnx\n",
    "#torch.onnx.export(original_module, \"Hi! What do you like to do?\", \"emely-testing.onnx\")"
   ],
   "outputs": [],
   "metadata": {}
  },
  {
   "cell_type": "code",
   "execution_count": 8,
   "source": [
    "print(type(emely_agent.model.encoder))"
   ],
   "outputs": [
    {
     "output_type": "stream",
     "name": "stdout",
     "text": [
      "<class 'parlai.agents.transformer.modules.encoder.TransformerEncoder'>\n"
     ]
    }
   ],
   "metadata": {}
  },
  {
   "cell_type": "code",
   "execution_count": 9,
   "source": [
    "print(emely_agent.dict.tokenize(\"Hi Emely, how are you?\"))\n",
    "print(scripted_module.dict.tokenize(\"Hi Emely, how are you?\"))"
   ],
   "outputs": [
    {
     "output_type": "stream",
     "name": "stdout",
     "text": [
      "['hi', 'em@@', 'ely', ',', 'how', 'are', 'you', '?']\n",
      "['hi', 'em@@', 'ely', ',', 'how', 'are', 'you', '?']\n"
     ]
    }
   ],
   "metadata": {}
  },
  {
   "cell_type": "code",
   "execution_count": null,
   "source": [],
   "outputs": [],
   "metadata": {}
  }
 ],
 "metadata": {
  "kernelspec": {
   "name": "python3",
   "display_name": "Python 3.8.11 64-bit ('emelymodels': conda)"
  },
  "language_info": {
   "codemirror_mode": {
    "name": "ipython",
    "version": 3
   },
   "file_extension": ".py",
   "mimetype": "text/x-python",
   "name": "python",
   "nbconvert_exporter": "python",
   "pygments_lexer": "ipython3",
   "version": "3.8.11"
  },
  "interpreter": {
   "hash": "f8da2b72f9ac3c32718e899b9529d2abac5ccc10881893810be77cced976bf1a"
  }
 },
 "nbformat": 4,
 "nbformat_minor": 5
}