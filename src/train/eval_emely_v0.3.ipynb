{
 "cells": [
  {
   "cell_type": "markdown",
   "id": "5b29b870",
   "metadata": {},
   "source": [
    "# Evaluate Emely conversations on testset\n",
    "\n",
    "This script evaluates all models using parlais display_model"
   ]
  },
  {
   "cell_type": "code",
   "execution_count": 3,
   "id": "7aece1d6",
   "metadata": {},
   "outputs": [],
   "source": [
    "from parlai.scripts.display_model import DisplayModel\n",
    "from pathlib import Path"
   ]
  },
  {
   "cell_type": "code",
   "execution_count": 9,
   "id": "47e08153",
   "metadata": {},
   "outputs": [
    {
     "name": "stdout",
     "output_type": "stream",
     "text": [
      "Found these models:\n",
      "blender-internal,external-6,3\n"
     ]
    }
   ],
   "source": [
    "model_dir = Path.cwd().parents[1].joinpath('models/model-runs/')\n",
    "model_runs = list(model_dir.glob('**/model'))\n",
    "\n",
    "print('Found these models:')\n",
    "for model in model_runs:\n",
    "    print(model.parent.name)\n",
    "\n",
    "eval_opts = {'task': 'internal,external',\n",
    "            'num_examples': 8,\n",
    "            'datatype': 'valid'}\n"
   ]
  },
  {
   "cell_type": "markdown",
   "id": "2d50cb32",
   "metadata": {},
   "source": [
    "## Run cell below to do the evaluations"
   ]
  },
  {
   "cell_type": "code",
   "execution_count": null,
   "id": "088e7d82",
   "metadata": {},
   "outputs": [],
   "source": [
    "\n",
    "for model in model_runs:\n",
    "    opt = eval_opts.update('model_file': model.as_posix())"
   ]
  }
 ],
 "metadata": {
  "kernelspec": {
   "display_name": "parlai",
   "language": "python",
   "name": "parlai"
  },
  "language_info": {
   "codemirror_mode": {
    "name": "ipython",
    "version": 3
   },
   "file_extension": ".py",
   "mimetype": "text/x-python",
   "name": "python",
   "nbconvert_exporter": "python",
   "pygments_lexer": "ipython3",
   "version": "3.9.4"
  }
 },
 "nbformat": 4,
 "nbformat_minor": 5
}
